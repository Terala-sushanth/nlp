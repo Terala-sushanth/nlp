{
  "nbformat": 4,
  "nbformat_minor": 0,
  "metadata": {
    "colab": {
      "name": "Untitled17.ipynb",
      "provenance": [],
      "authorship_tag": "ABX9TyPaObzucu9OdbEBk5E3DeX/",
      "include_colab_link": true
    },
    "kernelspec": {
      "name": "python3",
      "display_name": "Python 3"
    },
    "language_info": {
      "name": "python"
    }
  },
  "cells": [
    {
      "cell_type": "markdown",
      "metadata": {
        "id": "view-in-github",
        "colab_type": "text"
      },
      "source": [
        "<a href=\"https://colab.research.google.com/github/Terala-sushanth/nlp/blob/main/Untitled17.ipynb\" target=\"_parent\"><img src=\"https://colab.research.google.com/assets/colab-badge.svg\" alt=\"Open In Colab\"/></a>"
      ]
    },
    {
      "cell_type": "code",
      "execution_count": 2,
      "metadata": {
        "id": "OD_8MHqeuplJ"
      },
      "outputs": [],
      "source": [
        "Docs12 = ['Text Simplification is the task of reducing the complexity of the vocabulary and sentence  structure  of  text  while  retaining  its  original  meaning,  with  the  goal  of improving readability and understanding.',\n",
        "'Sentiment Analysis is the process of determining whether a piece of writing is positive,  negative  or  neutral.  A  sentiment  analysis  system  for  text  analysis combines natural language processing (NLP) and machine learning techniques to assign  weighted  sentiment  scores  to  the  entities,  topics,  themes  and  categories within a sentence or phrase.']\n"
      ]
    },
    {
      "cell_type": "code",
      "source": [
        "from sklearn.feature_extraction.text import TfidfVectorizer\n",
        "from sklearn.metrics.pairwise import cosine_similarity\n",
        "\n",
        "# Initialize an instance of tf-idf Vectorizer\n",
        "tfidf_vectorizer = TfidfVectorizer()\n",
        "\n",
        "# Generate the tf-idf vectors for the Documents 1 & 2, print the shape of the matrix and their cosine similarities\n",
        "tfidf_matrix12 = tfidf_vectorizer.fit_transform(Docs12)\n",
        "print(\"TF-IDF Matrix Shape for DOC 1 & 2 : \", tfidf_matrix12.shape)\n",
        "cosine_sim12 = cosine_similarity(tfidf_matrix12, tfidf_matrix12)\n",
        "print(\"Cosine Similarity Matrix Between Documents 1 & 2 : \")\n",
        "print(cosine_sim12)"
      ],
      "metadata": {
        "colab": {
          "base_uri": "https://localhost:8080/"
        },
        "id": "DiRBsNoSvn90",
        "outputId": "912712ed-3d6d-4ff3-fa53-ca335bb921ed"
      },
      "execution_count": 3,
      "outputs": [
        {
          "output_type": "stream",
          "name": "stdout",
          "text": [
            "TF-IDF Matrix Shape for DOC 1 & 2 :  (2, 53)\n",
            "Cosine Similarity Matrix Between Documents 1 & 2 : \n",
            "[[1.         0.26307297]\n",
            " [0.26307297 1.        ]]\n"
          ]
        }
      ]
    }
  ]
}